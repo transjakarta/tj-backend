{
 "cells": [
  {
   "cell_type": "markdown",
   "metadata": {},
   "source": [
    "Ijin bikin ipynb soalnya enak buat debug"
   ]
  },
  {
   "cell_type": "code",
   "execution_count": 1,
   "metadata": {},
   "outputs": [],
   "source": [
    "import pickle\n",
    "\n",
    "# Specify the path to your Pickle file\n",
    "pickle_file_path = r'assets\\map.pickle'\n",
    "\n",
    "# Open the Pickle file in binary read mode\n",
    "with open(pickle_file_path, 'rb') as file:\n",
    "    # Load the object from the Pickle file\n",
    "    map_route = pickle.load(file)"
   ]
  },
  {
   "cell_type": "code",
   "execution_count": null,
   "metadata": {},
   "outputs": [],
   "source": [
    "map_route\n",
    "# {'1-R07': {'jarak': {\n",
    "#    'P00017': ('G00012', 0.8112057177482759),\n",
    "#    'G00012': ('G00009', 0.4759435692064075),\n",
    "#     ...\n",
    "#   'pair': '1-R08',\n",
    "#   'shape': [(-6.243367, 106.801738),\n",
    "#    (-6.243312, 106.80175),\n",
    "#    (-6.243388, 106.802087),\n",
    "#    (-6.243361, 106.802296),\n",
    "#    (-6.243281, 106.802387),\n",
    "# ...\n",
    "#    '.',\n",
    "#    '.',\n",
    "#    '.',\n",
    "#    'B07096P',\n",
    "#    '.']}}"
   ]
  }
 ],
 "metadata": {
  "kernelspec": {
   "display_name": "Python 3",
   "language": "python",
   "name": "python3"
  },
  "language_info": {
   "codemirror_mode": {
    "name": "ipython",
    "version": 3
   },
   "file_extension": ".py",
   "mimetype": "text/x-python",
   "name": "python",
   "nbconvert_exporter": "python",
   "pygments_lexer": "ipython3",
   "version": "3.10.11"
  }
 },
 "nbformat": 4,
 "nbformat_minor": 2
}
